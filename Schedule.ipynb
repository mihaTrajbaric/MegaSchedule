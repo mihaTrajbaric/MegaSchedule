{
 "cells": [
  {
   "cell_type": "code",
   "execution_count": 45,
   "metadata": {},
   "outputs": [],
   "source": []
  },
  {
   "cell_type": "code",
   "execution_count": 2,
   "metadata": {},
   "outputs": [],
   "source": [
    "matrix = [[-30,-40,-45,-35,-30],\n",
    "          [-35,-45,-60,-30,-50],\n",
    "          [-50,-70,-65,-50,-30],\n",
    "          [-45,-25,-50,-60,-60]]"
   ]
  },
  {
   "cell_type": "code",
   "execution_count": 46,
   "metadata": {},
   "outputs": [],
   "source": [
    "cost_matrix = [[30,40,45,35,30],\n",
    "               [35,45,60,30,50],\n",
    "               [50,70,65,50,30],\n",
    "               [45,25,50,60,60]]"
   ]
  },
  {
   "cell_type": "code",
   "execution_count": 47,
   "metadata": {},
   "outputs": [],
   "source": [
    "#takole se pozene najcenejse prirejanje\n",
    "hungarian = Hungarian(matrix)\n",
    "hungarian.calculate()"
   ]
  },
  {
   "cell_type": "code",
   "execution_count": 48,
   "metadata": {},
   "outputs": [],
   "source": [
    "#takole pa najdrazje (najvecji dobicek)\n",
    "hungarian = Hungarian(cost_matrix, is_profit_matrix=True)\n",
    "hungarian.calculate()"
   ]
  },
  {
   "cell_type": "code",
   "execution_count": 49,
   "metadata": {},
   "outputs": [],
   "source": [
    "result = hungarian.get_results()\n",
    "potential = hungarian.get_total_potential()"
   ]
  },
  {
   "cell_type": "code",
   "execution_count": 50,
   "metadata": {},
   "outputs": [
    {
     "data": {
      "text/plain": [
       "[(2, 1), (0, 2), (1, 4), (3, 3)]"
      ]
     },
     "execution_count": 50,
     "metadata": {},
     "output_type": "execute_result"
    }
   ],
   "source": [
    "result"
   ]
  },
  {
   "cell_type": "code",
   "execution_count": 51,
   "metadata": {},
   "outputs": [
    {
     "data": {
      "text/plain": [
       "225"
      ]
     },
     "execution_count": 51,
     "metadata": {},
     "output_type": "execute_result"
    }
   ],
   "source": [
    "potential"
   ]
  },
  {
   "cell_type": "markdown",
   "metadata": {},
   "source": [
    "# Megaron"
   ]
  },
  {
   "cell_type": "code",
   "execution_count": 225,
   "metadata": {},
   "outputs": [],
   "source": [
    "#izberi dan, od kdaj do kdaj, dobi datume,dobi datume"
   ]
  },
  {
   "cell_type": "code",
   "execution_count": 226,
   "metadata": {},
   "outputs": [],
   "source": [
    "import time\n",
    "import datetime\n",
    "import pandas as pd\n",
    "import numpy as np\n",
    "from datetime import timezone\n",
    "import csv\n",
    "from hungarian import Hungarian"
   ]
  },
  {
   "cell_type": "code",
   "execution_count": 227,
   "metadata": {},
   "outputs": [],
   "source": [
    "def min_max_timestamp(leto):\n",
    "    min_timestamp = datetime.datetime(leto,1,1).replace(tzinfo=timezone.utc).timestamp()\n",
    "    max_timestamp = datetime.datetime(leto,12,31).replace(tzinfo=timezone.utc).timestamp()\n",
    "    return (min_timestamp,max_timestamp)\n",
    "\n",
    "def min_max_timestamp_schoolyear(leto_zacetek):\n",
    "    '''nekako studentsko solsko leto'''\n",
    "    min_timestamp = (datetime.datetime(leto_zacetek,10,1).replace(tzinfo=timezone.utc).timestamp())\n",
    "    max_timestamp = (datetime.datetime(leto_zacetek+1,6,25).replace(tzinfo=timezone.utc).timestamp())\n",
    "    return (min_timestamp,max_timestamp)\n",
    "\n",
    "def gen_days(min_timestamp, max_timestamp, iso_weekday):\n",
    "    '''creates a list of every day between timestamps, that is the weekday (1 monday, 7 sunday)'''\n",
    "    \n",
    "    day = 60*60*24\n",
    "    week = day*7\n",
    "    \n",
    "    min_weekday = datetime.datetime.fromtimestamp(min_timestamp).replace(tzinfo=timezone.utc).isoweekday()\n",
    "    diff = iso_weekday-min_weekday\n",
    "    if (diff < 0):\n",
    "        diff += 7\n",
    "    \n",
    "    timestamp_list = []\n",
    "    timestamp  = min_timestamp + diff*day\n",
    "    while(timestamp <= max_timestamp):\n",
    "        timestamp_list.append(timestamp)\n",
    "        timestamp += week\n",
    "    return timestamp_list"
   ]
  },
  {
   "cell_type": "code",
   "execution_count": 284,
   "metadata": {},
   "outputs": [],
   "source": [
    "a = min_max_timestamp_schoolyear(2018)\n",
    "vaje = [int(x) for x in gen_days(a[0],a[1],2)]\n",
    "#vaje_pandas = pd.to_datetime(vaje, unit='s')"
   ]
  },
  {
   "cell_type": "code",
   "execution_count": 295,
   "metadata": {},
   "outputs": [],
   "source": [
    "#preberemo rojstne dneve\n",
    "df = pd.read_csv('lanski.csv', names = ['name','date'])\n",
    "leto = datetime.datetime.now().year\n",
    "df['day'] = df['date'].astype(str).str[:2]\n",
    "df['month'] = df['date'].astype(str).str[3:5]\n",
    "df['year'] = np.where((df['month'].astype(int) < 8),leto+1,leto)\n",
    "df['timestamp'] = pd.to_datetime(df[['year', 'month', 'day']])\n",
    "ljudje = df[['name', 'timestamp']].copy()"
   ]
  },
  {
   "cell_type": "code",
   "execution_count": 296,
   "metadata": {},
   "outputs": [],
   "source": [
    "imena = ljudje['name'].values.tolist()\n",
    "rojstni_dnevi = [ int(x / 1000000000) for x in ljudje['timestamp'].values.tolist()]"
   ]
  },
  {
   "cell_type": "code",
   "execution_count": 297,
   "metadata": {},
   "outputs": [],
   "source": [
    "#ker castita dva na vajo podvojimo vsak element\n",
    "vaje_vozlisca = [x for x in vaje for _ in (0, 1)]"
   ]
  },
  {
   "cell_type": "code",
   "execution_count": 298,
   "metadata": {},
   "outputs": [],
   "source": [
    "#vsak stolpec ena vaja, vrstica en clovek\n",
    "matrika = [[int(abs(vaja-clovek)/86400) for vaja in vaje_vozlisca] for clovek in rojstni_dnevi]"
   ]
  },
  {
   "cell_type": "code",
   "execution_count": 299,
   "metadata": {},
   "outputs": [],
   "source": [
    "matching = Hungarian(matrika)\n",
    "matching.calculate()"
   ]
  },
  {
   "cell_type": "code",
   "execution_count": 300,
   "metadata": {},
   "outputs": [],
   "source": [
    "result = matching.get_results()\n",
    "potential = matching.get_total_potential()"
   ]
  },
  {
   "cell_type": "code",
   "execution_count": 301,
   "metadata": {},
   "outputs": [],
   "source": [
    "result = sorted(result,key=lambda tup: tup[1])"
   ]
  },
  {
   "cell_type": "code",
   "execution_count": 302,
   "metadata": {},
   "outputs": [],
   "source": [
    "with open('razpored.csv', 'w') as csvfile:\n",
    "    fieldnames = ['vaja', 'ime','rojstni_dan','dni']\n",
    "    writer = csv.DictWriter(csvfile, fieldnames=fieldnames,delimiter = ';')\n",
    "\n",
    "    writer.writeheader()\n",
    "    for par in result:\n",
    "        ime = imena[par[0]]\n",
    "        vaja = datetime.datetime.fromtimestamp(vaje_vozlisca[par[1]]).replace(tzinfo=timezone.utc).date()\n",
    "        rojstni_dan = datetime.datetime.fromtimestamp(rojstni_dnevi[par[0]]).replace(tzinfo=timezone.utc).date()\n",
    "        razdalja = abs(rojstni_dan-vaja).days\n",
    "        #print(ime,str(vaja),str(rojstni_dan),razdalja)\n",
    "        writer.writerow({'vaja': vaja, 'ime': ime, 'rojstni_dan' : rojstni_dan, 'dni': razdalja})"
   ]
  },
  {
   "cell_type": "code",
   "execution_count": 303,
   "metadata": {},
   "outputs": [
    {
     "data": {
      "text/plain": [
       "1224"
      ]
     },
     "execution_count": 303,
     "metadata": {},
     "output_type": "execute_result"
    }
   ],
   "source": [
    "potential"
   ]
  },
  {
   "cell_type": "code",
   "execution_count": null,
   "metadata": {},
   "outputs": [],
   "source": []
  }
 ],
 "metadata": {
  "kernelspec": {
   "display_name": "Python 3",
   "language": "python",
   "name": "python3"
  },
  "language_info": {
   "codemirror_mode": {
    "name": "ipython",
    "version": 3
   },
   "file_extension": ".py",
   "mimetype": "text/x-python",
   "name": "python",
   "nbconvert_exporter": "python",
   "pygments_lexer": "ipython3",
   "version": "3.6.5"
  }
 },
 "nbformat": 4,
 "nbformat_minor": 2
}
